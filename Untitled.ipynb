{
 "cells": [
  {
   "cell_type": "markdown",
   "metadata": {},
   "source": [
    "# Data Wrangling"
   ]
  },
  {
   "cell_type": "markdown",
   "metadata": {},
   "source": [
    "### Importing required libraries"
   ]
  },
  {
   "cell_type": "code",
   "execution_count": 104,
   "metadata": {},
   "outputs": [],
   "source": [
    "import pandas as pd\n",
    "import numpy as np\n",
    "import matplotlib.pyplot as plt\n",
    "import seaborn as sns\n",
    "from datetime import datetime\n",
    "\n",
    "% matplotlib inline"
   ]
  },
  {
   "cell_type": "markdown",
   "metadata": {},
   "source": [
    "### Loading the data and summary"
   ]
  },
  {
   "cell_type": "code",
   "execution_count": 105,
   "metadata": {},
   "outputs": [],
   "source": [
    "imdb_df = pd.read_csv('data/imdb_data.csv')"
   ]
  },
  {
   "cell_type": "markdown",
   "metadata": {},
   "source": [
    "### Discovering the data"
   ]
  },
  {
   "cell_type": "code",
   "execution_count": 106,
   "metadata": {},
   "outputs": [
    {
     "data": {
      "text/html": [
       "<div>\n",
       "<style scoped>\n",
       "    .dataframe tbody tr th:only-of-type {\n",
       "        vertical-align: middle;\n",
       "    }\n",
       "\n",
       "    .dataframe tbody tr th {\n",
       "        vertical-align: top;\n",
       "    }\n",
       "\n",
       "    .dataframe thead th {\n",
       "        text-align: right;\n",
       "    }\n",
       "</style>\n",
       "<table border=\"1\" class=\"dataframe\">\n",
       "  <thead>\n",
       "    <tr style=\"text-align: right;\">\n",
       "      <th></th>\n",
       "      <th>Unnamed: 0</th>\n",
       "      <th>rank</th>\n",
       "      <th>name</th>\n",
       "      <th>year</th>\n",
       "      <th>rating</th>\n",
       "      <th>metascore</th>\n",
       "      <th>votes</th>\n",
       "      <th>revenue</th>\n",
       "      <th>genre</th>\n",
       "      <th>runtime</th>\n",
       "      <th>directors</th>\n",
       "      <th>actors</th>\n",
       "      <th>description</th>\n",
       "    </tr>\n",
       "  </thead>\n",
       "  <tbody>\n",
       "    <tr>\n",
       "      <th>0</th>\n",
       "      <td>0</td>\n",
       "      <td>1</td>\n",
       "      <td>2001: A Space Odyssey</td>\n",
       "      <td>1968.0</td>\n",
       "      <td>8.3</td>\n",
       "      <td>82.0</td>\n",
       "      <td>533017</td>\n",
       "      <td>56954992.0</td>\n",
       "      <td>Adventure, Sci-Fi</td>\n",
       "      <td>149.0</td>\n",
       "      <td>Stanley Kubrick</td>\n",
       "      <td>Keir Dullea, Gary Lockwood, William Sylvester,...</td>\n",
       "      <td>After discovering a mysterious artifact buried...</td>\n",
       "    </tr>\n",
       "    <tr>\n",
       "      <th>1</th>\n",
       "      <td>1</td>\n",
       "      <td>2</td>\n",
       "      <td>Once Upon a Time in the West</td>\n",
       "      <td>1968.0</td>\n",
       "      <td>8.5</td>\n",
       "      <td>80.0</td>\n",
       "      <td>266884</td>\n",
       "      <td>5321508.0</td>\n",
       "      <td>Western</td>\n",
       "      <td>165.0</td>\n",
       "      <td>Sergio Leone</td>\n",
       "      <td>Henry Fonda, Charles Bronson, Claudia Cardinal...</td>\n",
       "      <td>A mysterious stranger with a harmonica joins f...</td>\n",
       "    </tr>\n",
       "    <tr>\n",
       "      <th>2</th>\n",
       "      <td>2</td>\n",
       "      <td>3</td>\n",
       "      <td>Rosemary's Baby</td>\n",
       "      <td>1968.0</td>\n",
       "      <td>8.0</td>\n",
       "      <td>96.0</td>\n",
       "      <td>167435</td>\n",
       "      <td>NaN</td>\n",
       "      <td>Drama, Horror</td>\n",
       "      <td>137.0</td>\n",
       "      <td>Roman Polanski</td>\n",
       "      <td>Mia Farrow, John Cassavetes, Ruth Gordon, Sidn...</td>\n",
       "      <td>A young couple moves in to an apartment only t...</td>\n",
       "    </tr>\n",
       "  </tbody>\n",
       "</table>\n",
       "</div>"
      ],
      "text/plain": [
       "   Unnamed: 0  rank                          name    year  rating  metascore  \\\n",
       "0           0     1         2001: A Space Odyssey  1968.0     8.3       82.0   \n",
       "1           1     2  Once Upon a Time in the West  1968.0     8.5       80.0   \n",
       "2           2     3               Rosemary's Baby  1968.0     8.0       96.0   \n",
       "\n",
       "    votes     revenue              genre  runtime        directors  \\\n",
       "0  533017  56954992.0  Adventure, Sci-Fi    149.0  Stanley Kubrick   \n",
       "1  266884   5321508.0            Western    165.0     Sergio Leone   \n",
       "2  167435         NaN      Drama, Horror    137.0   Roman Polanski   \n",
       "\n",
       "                                              actors  \\\n",
       "0  Keir Dullea, Gary Lockwood, William Sylvester,...   \n",
       "1  Henry Fonda, Charles Bronson, Claudia Cardinal...   \n",
       "2  Mia Farrow, John Cassavetes, Ruth Gordon, Sidn...   \n",
       "\n",
       "                                         description  \n",
       "0  After discovering a mysterious artifact buried...  \n",
       "1  A mysterious stranger with a harmonica joins f...  \n",
       "2  A young couple moves in to an apartment only t...  "
      ]
     },
     "execution_count": 106,
     "metadata": {},
     "output_type": "execute_result"
    }
   ],
   "source": [
    "imdb_df.head(3)"
   ]
  },
  {
   "cell_type": "code",
   "execution_count": 107,
   "metadata": {},
   "outputs": [
    {
     "data": {
      "text/html": [
       "<div>\n",
       "<style scoped>\n",
       "    .dataframe tbody tr th:only-of-type {\n",
       "        vertical-align: middle;\n",
       "    }\n",
       "\n",
       "    .dataframe tbody tr th {\n",
       "        vertical-align: top;\n",
       "    }\n",
       "\n",
       "    .dataframe thead th {\n",
       "        text-align: right;\n",
       "    }\n",
       "</style>\n",
       "<table border=\"1\" class=\"dataframe\">\n",
       "  <thead>\n",
       "    <tr style=\"text-align: right;\">\n",
       "      <th></th>\n",
       "      <th>Unnamed: 0</th>\n",
       "      <th>rank</th>\n",
       "      <th>name</th>\n",
       "      <th>year</th>\n",
       "      <th>rating</th>\n",
       "      <th>metascore</th>\n",
       "      <th>votes</th>\n",
       "      <th>revenue</th>\n",
       "      <th>genre</th>\n",
       "      <th>runtime</th>\n",
       "      <th>directors</th>\n",
       "      <th>actors</th>\n",
       "      <th>description</th>\n",
       "    </tr>\n",
       "  </thead>\n",
       "  <tbody>\n",
       "    <tr>\n",
       "      <th>10197</th>\n",
       "      <td>10197</td>\n",
       "      <td>198</td>\n",
       "      <td>Teen Titans Go! To the Movies</td>\n",
       "      <td>2018.0</td>\n",
       "      <td>6.8</td>\n",
       "      <td>69.0</td>\n",
       "      <td>11164</td>\n",
       "      <td>29562341.0</td>\n",
       "      <td>Animation, Action, Comedy</td>\n",
       "      <td>84.0</td>\n",
       "      <td>Aaron Horvath, Peter Rida Michail</td>\n",
       "      <td>Greg Cipes, Scott Menville, Khary Payton, Tara...</td>\n",
       "      <td>A villain's maniacal plan for world domination...</td>\n",
       "    </tr>\n",
       "    <tr>\n",
       "      <th>10198</th>\n",
       "      <td>10198</td>\n",
       "      <td>199</td>\n",
       "      <td>Raid</td>\n",
       "      <td>2018.0</td>\n",
       "      <td>7.4</td>\n",
       "      <td>NaN</td>\n",
       "      <td>11082</td>\n",
       "      <td>1010385.0</td>\n",
       "      <td>Action, Crime, Drama</td>\n",
       "      <td>122.0</td>\n",
       "      <td>Raj Kumar Gupta</td>\n",
       "      <td>Ajay Devgn, Saurabh Shukla, Ileana D'Cruz, Ami...</td>\n",
       "      <td>A fearless income tax officer raids the mansio...</td>\n",
       "    </tr>\n",
       "    <tr>\n",
       "      <th>10199</th>\n",
       "      <td>10199</td>\n",
       "      <td>200</td>\n",
       "      <td>Mulk</td>\n",
       "      <td>2018.0</td>\n",
       "      <td>6.3</td>\n",
       "      <td>NaN</td>\n",
       "      <td>11073</td>\n",
       "      <td>NaN</td>\n",
       "      <td>Drama</td>\n",
       "      <td>140.0</td>\n",
       "      <td>Anubhav Sinha</td>\n",
       "      <td>Tapsee Pannu, Rishi Kapoor, Prateik, Ashutosh ...</td>\n",
       "      <td>One family member tries to help her own family...</td>\n",
       "    </tr>\n",
       "  </tbody>\n",
       "</table>\n",
       "</div>"
      ],
      "text/plain": [
       "       Unnamed: 0  rank                           name    year  rating  \\\n",
       "10197       10197   198  Teen Titans Go! To the Movies  2018.0     6.8   \n",
       "10198       10198   199                           Raid  2018.0     7.4   \n",
       "10199       10199   200                           Mulk  2018.0     6.3   \n",
       "\n",
       "       metascore  votes     revenue                      genre  runtime  \\\n",
       "10197       69.0  11164  29562341.0  Animation, Action, Comedy     84.0   \n",
       "10198        NaN  11082   1010385.0       Action, Crime, Drama    122.0   \n",
       "10199        NaN  11073         NaN                      Drama    140.0   \n",
       "\n",
       "                               directors  \\\n",
       "10197  Aaron Horvath, Peter Rida Michail   \n",
       "10198                    Raj Kumar Gupta   \n",
       "10199                      Anubhav Sinha   \n",
       "\n",
       "                                                  actors  \\\n",
       "10197  Greg Cipes, Scott Menville, Khary Payton, Tara...   \n",
       "10198  Ajay Devgn, Saurabh Shukla, Ileana D'Cruz, Ami...   \n",
       "10199  Tapsee Pannu, Rishi Kapoor, Prateik, Ashutosh ...   \n",
       "\n",
       "                                             description  \n",
       "10197  A villain's maniacal plan for world domination...  \n",
       "10198  A fearless income tax officer raids the mansio...  \n",
       "10199  One family member tries to help her own family...  "
      ]
     },
     "execution_count": 107,
     "metadata": {},
     "output_type": "execute_result"
    }
   ],
   "source": [
    "imdb_df.tail(3)"
   ]
  },
  {
   "cell_type": "code",
   "execution_count": 108,
   "metadata": {},
   "outputs": [
    {
     "data": {
      "text/plain": [
       "(10200, 13)"
      ]
     },
     "execution_count": 108,
     "metadata": {},
     "output_type": "execute_result"
    }
   ],
   "source": [
    "imdb_df.shape"
   ]
  },
  {
   "cell_type": "code",
   "execution_count": 109,
   "metadata": {},
   "outputs": [
    {
     "name": "stdout",
     "output_type": "stream",
     "text": [
      "<class 'pandas.core.frame.DataFrame'>\n",
      "RangeIndex: 10200 entries, 0 to 10199\n",
      "Data columns (total 13 columns):\n",
      "Unnamed: 0     10200 non-null int64\n",
      "rank           10200 non-null int64\n",
      "name           10200 non-null object\n",
      "year           10199 non-null float64\n",
      "rating         10200 non-null float64\n",
      "metascore      5647 non-null float64\n",
      "votes          10200 non-null int64\n",
      "revenue        6839 non-null float64\n",
      "genre          10200 non-null object\n",
      "runtime        10198 non-null float64\n",
      "directors      10200 non-null object\n",
      "actors         10200 non-null object\n",
      "description    10200 non-null object\n",
      "dtypes: float64(5), int64(3), object(5)\n",
      "memory usage: 1.0+ MB\n"
     ]
    }
   ],
   "source": [
    "imdb_df.info()"
   ]
  },
  {
   "cell_type": "code",
   "execution_count": 110,
   "metadata": {},
   "outputs": [
    {
     "data": {
      "text/html": [
       "<div>\n",
       "<style scoped>\n",
       "    .dataframe tbody tr th:only-of-type {\n",
       "        vertical-align: middle;\n",
       "    }\n",
       "\n",
       "    .dataframe tbody tr th {\n",
       "        vertical-align: top;\n",
       "    }\n",
       "\n",
       "    .dataframe thead th {\n",
       "        text-align: right;\n",
       "    }\n",
       "</style>\n",
       "<table border=\"1\" class=\"dataframe\">\n",
       "  <thead>\n",
       "    <tr style=\"text-align: right;\">\n",
       "      <th></th>\n",
       "      <th>Unnamed: 0</th>\n",
       "      <th>rank</th>\n",
       "      <th>year</th>\n",
       "      <th>rating</th>\n",
       "      <th>metascore</th>\n",
       "      <th>votes</th>\n",
       "      <th>revenue</th>\n",
       "      <th>runtime</th>\n",
       "    </tr>\n",
       "  </thead>\n",
       "  <tbody>\n",
       "    <tr>\n",
       "      <th>count</th>\n",
       "      <td>10200.000000</td>\n",
       "      <td>10200.000000</td>\n",
       "      <td>10199.000000</td>\n",
       "      <td>10200.000000</td>\n",
       "      <td>5647.000000</td>\n",
       "      <td>1.020000e+04</td>\n",
       "      <td>6.839000e+03</td>\n",
       "      <td>10198.000000</td>\n",
       "    </tr>\n",
       "    <tr>\n",
       "      <th>mean</th>\n",
       "      <td>5099.500000</td>\n",
       "      <td>100.500000</td>\n",
       "      <td>1992.997941</td>\n",
       "      <td>6.563804</td>\n",
       "      <td>56.587923</td>\n",
       "      <td>6.086748e+04</td>\n",
       "      <td>3.939572e+07</td>\n",
       "      <td>107.475093</td>\n",
       "    </tr>\n",
       "    <tr>\n",
       "      <th>std</th>\n",
       "      <td>2944.630707</td>\n",
       "      <td>57.737136</td>\n",
       "      <td>14.719429</td>\n",
       "      <td>1.040472</td>\n",
       "      <td>17.927759</td>\n",
       "      <td>1.277322e+05</td>\n",
       "      <td>6.282130e+07</td>\n",
       "      <td>21.144425</td>\n",
       "    </tr>\n",
       "    <tr>\n",
       "      <th>min</th>\n",
       "      <td>0.000000</td>\n",
       "      <td>1.000000</td>\n",
       "      <td>1968.000000</td>\n",
       "      <td>1.300000</td>\n",
       "      <td>1.000000</td>\n",
       "      <td>5.950000e+02</td>\n",
       "      <td>2.100000e+01</td>\n",
       "      <td>45.000000</td>\n",
       "    </tr>\n",
       "    <tr>\n",
       "      <th>25%</th>\n",
       "      <td>2549.750000</td>\n",
       "      <td>50.750000</td>\n",
       "      <td>1980.000000</td>\n",
       "      <td>6.000000</td>\n",
       "      <td>44.000000</td>\n",
       "      <td>3.898500e+03</td>\n",
       "      <td>4.273629e+06</td>\n",
       "      <td>94.000000</td>\n",
       "    </tr>\n",
       "    <tr>\n",
       "      <th>50%</th>\n",
       "      <td>5099.500000</td>\n",
       "      <td>100.500000</td>\n",
       "      <td>1993.000000</td>\n",
       "      <td>6.700000</td>\n",
       "      <td>57.000000</td>\n",
       "      <td>1.832750e+04</td>\n",
       "      <td>1.776890e+07</td>\n",
       "      <td>103.000000</td>\n",
       "    </tr>\n",
       "    <tr>\n",
       "      <th>75%</th>\n",
       "      <td>7649.250000</td>\n",
       "      <td>150.250000</td>\n",
       "      <td>2006.000000</td>\n",
       "      <td>7.300000</td>\n",
       "      <td>70.000000</td>\n",
       "      <td>5.906625e+04</td>\n",
       "      <td>4.699132e+07</td>\n",
       "      <td>116.000000</td>\n",
       "    </tr>\n",
       "    <tr>\n",
       "      <th>max</th>\n",
       "      <td>10199.000000</td>\n",
       "      <td>200.000000</td>\n",
       "      <td>2018.000000</td>\n",
       "      <td>9.400000</td>\n",
       "      <td>100.000000</td>\n",
       "      <td>2.062617e+06</td>\n",
       "      <td>9.366622e+08</td>\n",
       "      <td>450.000000</td>\n",
       "    </tr>\n",
       "  </tbody>\n",
       "</table>\n",
       "</div>"
      ],
      "text/plain": [
       "         Unnamed: 0          rank          year        rating    metascore  \\\n",
       "count  10200.000000  10200.000000  10199.000000  10200.000000  5647.000000   \n",
       "mean    5099.500000    100.500000   1992.997941      6.563804    56.587923   \n",
       "std     2944.630707     57.737136     14.719429      1.040472    17.927759   \n",
       "min        0.000000      1.000000   1968.000000      1.300000     1.000000   \n",
       "25%     2549.750000     50.750000   1980.000000      6.000000    44.000000   \n",
       "50%     5099.500000    100.500000   1993.000000      6.700000    57.000000   \n",
       "75%     7649.250000    150.250000   2006.000000      7.300000    70.000000   \n",
       "max    10199.000000    200.000000   2018.000000      9.400000   100.000000   \n",
       "\n",
       "              votes       revenue       runtime  \n",
       "count  1.020000e+04  6.839000e+03  10198.000000  \n",
       "mean   6.086748e+04  3.939572e+07    107.475093  \n",
       "std    1.277322e+05  6.282130e+07     21.144425  \n",
       "min    5.950000e+02  2.100000e+01     45.000000  \n",
       "25%    3.898500e+03  4.273629e+06     94.000000  \n",
       "50%    1.832750e+04  1.776890e+07    103.000000  \n",
       "75%    5.906625e+04  4.699132e+07    116.000000  \n",
       "max    2.062617e+06  9.366622e+08    450.000000  "
      ]
     },
     "execution_count": 110,
     "metadata": {},
     "output_type": "execute_result"
    }
   ],
   "source": [
    "imdb_df.describe()"
   ]
  },
  {
   "cell_type": "code",
   "execution_count": 111,
   "metadata": {
    "scrolled": true
   },
   "outputs": [
    {
     "data": {
      "text/plain": [
       "Index(['Unnamed: 0', 'rank', 'name', 'year', 'rating', 'metascore', 'votes',\n",
       "       'revenue', 'genre', 'runtime', 'directors', 'actors', 'description'],\n",
       "      dtype='object')"
      ]
     },
     "execution_count": 111,
     "metadata": {},
     "output_type": "execute_result"
    }
   ],
   "source": [
    "imdb_df.columns"
   ]
  },
  {
   "cell_type": "code",
   "execution_count": 112,
   "metadata": {},
   "outputs": [
    {
     "data": {
      "text/plain": [
       "0"
      ]
     },
     "execution_count": 112,
     "metadata": {},
     "output_type": "execute_result"
    }
   ],
   "source": [
    "imdb_df.duplicated().sum()"
   ]
  },
  {
   "cell_type": "code",
   "execution_count": 113,
   "metadata": {
    "scrolled": true
   },
   "outputs": [
    {
     "data": {
      "text/plain": [
       "Unnamed: 0        0\n",
       "rank              0\n",
       "name              0\n",
       "year              1\n",
       "rating            0\n",
       "metascore      4553\n",
       "votes             0\n",
       "revenue        3361\n",
       "genre             0\n",
       "runtime           2\n",
       "directors         0\n",
       "actors            0\n",
       "description       0\n",
       "dtype: int64"
      ]
     },
     "execution_count": 113,
     "metadata": {},
     "output_type": "execute_result"
    }
   ],
   "source": [
    "imdb_df.isnull().sum()"
   ]
  },
  {
   "cell_type": "code",
   "execution_count": 114,
   "metadata": {},
   "outputs": [
    {
     "data": {
      "text/html": [
       "<div>\n",
       "<style scoped>\n",
       "    .dataframe tbody tr th:only-of-type {\n",
       "        vertical-align: middle;\n",
       "    }\n",
       "\n",
       "    .dataframe tbody tr th {\n",
       "        vertical-align: top;\n",
       "    }\n",
       "\n",
       "    .dataframe thead th {\n",
       "        text-align: right;\n",
       "    }\n",
       "</style>\n",
       "<table border=\"1\" class=\"dataframe\">\n",
       "  <thead>\n",
       "    <tr style=\"text-align: right;\">\n",
       "      <th></th>\n",
       "      <th>Unnamed: 0</th>\n",
       "      <th>rank</th>\n",
       "      <th>name</th>\n",
       "      <th>year</th>\n",
       "      <th>rating</th>\n",
       "      <th>metascore</th>\n",
       "      <th>votes</th>\n",
       "      <th>revenue</th>\n",
       "      <th>genre</th>\n",
       "      <th>runtime</th>\n",
       "      <th>directors</th>\n",
       "      <th>actors</th>\n",
       "      <th>description</th>\n",
       "    </tr>\n",
       "  </thead>\n",
       "  <tbody>\n",
       "    <tr>\n",
       "      <th>9424</th>\n",
       "      <td>9424</td>\n",
       "      <td>25</td>\n",
       "      <td>Maze Runner: The Scorch Trials</td>\n",
       "      <td>NaN</td>\n",
       "      <td>6.3</td>\n",
       "      <td>43.0</td>\n",
       "      <td>197578</td>\n",
       "      <td>81697192.0</td>\n",
       "      <td>Action, Sci-Fi, Thriller</td>\n",
       "      <td>131.0</td>\n",
       "      <td>Wes Ball</td>\n",
       "      <td>Dylan O'Brien, Kaya Scodelario, Thomas Brodie-...</td>\n",
       "      <td>After having escaped the Maze, the Gladers now...</td>\n",
       "    </tr>\n",
       "  </tbody>\n",
       "</table>\n",
       "</div>"
      ],
      "text/plain": [
       "      Unnamed: 0  rank                            name  year  rating  \\\n",
       "9424        9424    25  Maze Runner: The Scorch Trials   NaN     6.3   \n",
       "\n",
       "      metascore   votes     revenue                     genre  runtime  \\\n",
       "9424       43.0  197578  81697192.0  Action, Sci-Fi, Thriller    131.0   \n",
       "\n",
       "     directors                                             actors  \\\n",
       "9424  Wes Ball  Dylan O'Brien, Kaya Scodelario, Thomas Brodie-...   \n",
       "\n",
       "                                            description  \n",
       "9424  After having escaped the Maze, the Gladers now...  "
      ]
     },
     "execution_count": 114,
     "metadata": {},
     "output_type": "execute_result"
    }
   ],
   "source": [
    "imdb_df[imdb_df[\"year\"].isnull()]"
   ]
  },
  {
   "cell_type": "markdown",
   "metadata": {},
   "source": [
    "### Data Cleaning"
   ]
  },
  {
   "cell_type": "code",
   "execution_count": 115,
   "metadata": {},
   "outputs": [],
   "source": [
    "del_cols = ['Unnamed: 0']\n",
    "\n",
    "imdb_df = imdb_df.drop(del_cols, axis=1)"
   ]
  },
  {
   "cell_type": "code",
   "execution_count": 116,
   "metadata": {},
   "outputs": [
    {
     "name": "stdout",
     "output_type": "stream",
     "text": [
      "(10200, 12)\n"
     ]
    }
   ],
   "source": [
    "print(imdb_df.shape)"
   ]
  },
  {
   "cell_type": "code",
   "execution_count": 117,
   "metadata": {},
   "outputs": [
    {
     "data": {
      "text/plain": [
       "(6839, 12)"
      ]
     },
     "execution_count": 117,
     "metadata": {},
     "output_type": "execute_result"
    }
   ],
   "source": [
    "# replacing all the zeros from revenue and budget cols.\n",
    "\n",
    "cols = ['revenue']\n",
    "\n",
    "# dropping all the rows with na in the columns mentioned above in the list.\n",
    "imdb_df.dropna(subset=cols, inplace=True)\n",
    "imdb_df.shape"
   ]
  },
  {
   "cell_type": "code",
   "execution_count": 118,
   "metadata": {
    "scrolled": false
   },
   "outputs": [
    {
     "data": {
      "text/plain": [
       "rank              0\n",
       "name              0\n",
       "year              1\n",
       "rating            0\n",
       "metascore      1561\n",
       "votes             0\n",
       "revenue           0\n",
       "genre             0\n",
       "runtime           0\n",
       "directors         0\n",
       "actors            0\n",
       "description       0\n",
       "dtype: int64"
      ]
     },
     "execution_count": 118,
     "metadata": {},
     "output_type": "execute_result"
    }
   ],
   "source": [
    "imdb_df.isnull().sum()"
   ]
  },
  {
   "cell_type": "code",
   "execution_count": 119,
   "metadata": {},
   "outputs": [],
   "source": [
    "imdb_df[\"year\"].fillna(2015, inplace=True)"
   ]
  },
  {
   "cell_type": "code",
   "execution_count": 129,
   "metadata": {},
   "outputs": [
    {
     "data": {
      "text/html": [
       "<div>\n",
       "<style scoped>\n",
       "    .dataframe tbody tr th:only-of-type {\n",
       "        vertical-align: middle;\n",
       "    }\n",
       "\n",
       "    .dataframe tbody tr th {\n",
       "        vertical-align: top;\n",
       "    }\n",
       "\n",
       "    .dataframe thead th {\n",
       "        text-align: right;\n",
       "    }\n",
       "</style>\n",
       "<table border=\"1\" class=\"dataframe\">\n",
       "  <thead>\n",
       "    <tr style=\"text-align: right;\">\n",
       "      <th></th>\n",
       "      <th>rank</th>\n",
       "      <th>name</th>\n",
       "      <th>year</th>\n",
       "      <th>rating</th>\n",
       "      <th>metascore</th>\n",
       "      <th>votes</th>\n",
       "      <th>revenue</th>\n",
       "      <th>genre</th>\n",
       "      <th>runtime</th>\n",
       "      <th>directors</th>\n",
       "      <th>actors</th>\n",
       "      <th>description</th>\n",
       "    </tr>\n",
       "  </thead>\n",
       "  <tbody>\n",
       "  </tbody>\n",
       "</table>\n",
       "</div>"
      ],
      "text/plain": [
       "Empty DataFrame\n",
       "Columns: [rank, name, year, rating, metascore, votes, revenue, genre, runtime, directors, actors, description]\n",
       "Index: []"
      ]
     },
     "execution_count": 129,
     "metadata": {},
     "output_type": "execute_result"
    }
   ],
   "source": [
    "imdb_df[imdb_df[\"year\"].isnull()]"
   ]
  },
  {
   "cell_type": "code",
   "execution_count": 130,
   "metadata": {
    "scrolled": true
   },
   "outputs": [
    {
     "name": "stdout",
     "output_type": "stream",
     "text": [
      "<class 'pandas.core.frame.DataFrame'>\n",
      "Int64Index: 6839 entries, 0 to 10198\n",
      "Data columns (total 12 columns):\n",
      "rank           6839 non-null int64\n",
      "name           6839 non-null object\n",
      "year           6839 non-null float64\n",
      "rating         6839 non-null float64\n",
      "metascore      5278 non-null float64\n",
      "votes          6839 non-null int64\n",
      "revenue        6839 non-null float64\n",
      "genre          6839 non-null object\n",
      "runtime        6839 non-null float64\n",
      "directors      6839 non-null object\n",
      "actors         6839 non-null object\n",
      "description    6839 non-null object\n",
      "dtypes: float64(5), int64(2), object(5)\n",
      "memory usage: 694.6+ KB\n"
     ]
    }
   ],
   "source": [
    "imdb_df.info()"
   ]
  },
  {
   "cell_type": "code",
   "execution_count": 136,
   "metadata": {},
   "outputs": [],
   "source": [
    "imdb_df[\"year\"] = imdb_df[\"year\"].astype(int)\n",
    "imdb_df[\"revenue\"] = imdb_df[\"revenue\"].astype(int)"
   ]
  },
  {
   "cell_type": "code",
   "execution_count": 137,
   "metadata": {},
   "outputs": [
    {
     "name": "stdout",
     "output_type": "stream",
     "text": [
      "<class 'pandas.core.frame.DataFrame'>\n",
      "Int64Index: 6839 entries, 0 to 10198\n",
      "Data columns (total 12 columns):\n",
      "rank           6839 non-null int64\n",
      "name           6839 non-null object\n",
      "year           6839 non-null int32\n",
      "rating         6839 non-null float64\n",
      "metascore      5278 non-null float64\n",
      "votes          6839 non-null int64\n",
      "revenue        6839 non-null int32\n",
      "genre          6839 non-null object\n",
      "runtime        6839 non-null float64\n",
      "directors      6839 non-null object\n",
      "actors         6839 non-null object\n",
      "description    6839 non-null object\n",
      "dtypes: float64(3), int32(2), int64(2), object(5)\n",
      "memory usage: 641.2+ KB\n"
     ]
    }
   ],
   "source": [
    "imdb_df.info()"
   ]
  },
  {
   "cell_type": "code",
   "execution_count": 134,
   "metadata": {
    "scrolled": true
   },
   "outputs": [
    {
     "data": {
      "text/html": [
       "<div>\n",
       "<style scoped>\n",
       "    .dataframe tbody tr th:only-of-type {\n",
       "        vertical-align: middle;\n",
       "    }\n",
       "\n",
       "    .dataframe tbody tr th {\n",
       "        vertical-align: top;\n",
       "    }\n",
       "\n",
       "    .dataframe thead th {\n",
       "        text-align: right;\n",
       "    }\n",
       "</style>\n",
       "<table border=\"1\" class=\"dataframe\">\n",
       "  <thead>\n",
       "    <tr style=\"text-align: right;\">\n",
       "      <th></th>\n",
       "      <th>rank</th>\n",
       "      <th>name</th>\n",
       "      <th>year</th>\n",
       "      <th>rating</th>\n",
       "      <th>metascore</th>\n",
       "      <th>votes</th>\n",
       "      <th>revenue</th>\n",
       "      <th>genre</th>\n",
       "      <th>runtime</th>\n",
       "      <th>directors</th>\n",
       "      <th>actors</th>\n",
       "      <th>description</th>\n",
       "    </tr>\n",
       "  </thead>\n",
       "  <tbody>\n",
       "    <tr>\n",
       "      <th>0</th>\n",
       "      <td>1</td>\n",
       "      <td>2001: A Space Odyssey</td>\n",
       "      <td>1968</td>\n",
       "      <td>8.3</td>\n",
       "      <td>82.0</td>\n",
       "      <td>533017</td>\n",
       "      <td>56954992.0</td>\n",
       "      <td>Adventure, Sci-Fi</td>\n",
       "      <td>149.0</td>\n",
       "      <td>Stanley Kubrick</td>\n",
       "      <td>Keir Dullea, Gary Lockwood, William Sylvester,...</td>\n",
       "      <td>After discovering a mysterious artifact buried...</td>\n",
       "    </tr>\n",
       "    <tr>\n",
       "      <th>1</th>\n",
       "      <td>2</td>\n",
       "      <td>Once Upon a Time in the West</td>\n",
       "      <td>1968</td>\n",
       "      <td>8.5</td>\n",
       "      <td>80.0</td>\n",
       "      <td>266884</td>\n",
       "      <td>5321508.0</td>\n",
       "      <td>Western</td>\n",
       "      <td>165.0</td>\n",
       "      <td>Sergio Leone</td>\n",
       "      <td>Henry Fonda, Charles Bronson, Claudia Cardinal...</td>\n",
       "      <td>A mysterious stranger with a harmonica joins f...</td>\n",
       "    </tr>\n",
       "    <tr>\n",
       "      <th>3</th>\n",
       "      <td>4</td>\n",
       "      <td>Planet of the Apes</td>\n",
       "      <td>1968</td>\n",
       "      <td>8.0</td>\n",
       "      <td>79.0</td>\n",
       "      <td>154752</td>\n",
       "      <td>33395426.0</td>\n",
       "      <td>Adventure, Sci-Fi</td>\n",
       "      <td>112.0</td>\n",
       "      <td>Franklin J. Schaffner</td>\n",
       "      <td>Charlton Heston, Roddy McDowall, Kim Hunter, M...</td>\n",
       "      <td>An astronaut crew crash-lands on a planet in t...</td>\n",
       "    </tr>\n",
       "    <tr>\n",
       "      <th>4</th>\n",
       "      <td>5</td>\n",
       "      <td>Night of the Living Dead</td>\n",
       "      <td>1968</td>\n",
       "      <td>7.9</td>\n",
       "      <td>89.0</td>\n",
       "      <td>103830</td>\n",
       "      <td>89029.0</td>\n",
       "      <td>Horror</td>\n",
       "      <td>96.0</td>\n",
       "      <td>George A. Romero</td>\n",
       "      <td>Duane Jones, Judith O'Dea, Karl Hardman, Maril...</td>\n",
       "      <td>There is panic throughout the nation as the de...</td>\n",
       "    </tr>\n",
       "    <tr>\n",
       "      <th>5</th>\n",
       "      <td>6</td>\n",
       "      <td>Bullitt</td>\n",
       "      <td>1968</td>\n",
       "      <td>7.5</td>\n",
       "      <td>83.0</td>\n",
       "      <td>54658</td>\n",
       "      <td>42300873.0</td>\n",
       "      <td>Action, Crime, Mystery</td>\n",
       "      <td>114.0</td>\n",
       "      <td>Peter Yates</td>\n",
       "      <td>Steve McQueen, Jacqueline Bisset, Robert Vaugh...</td>\n",
       "      <td>An all guts, no glory San Francisco cop become...</td>\n",
       "    </tr>\n",
       "  </tbody>\n",
       "</table>\n",
       "</div>"
      ],
      "text/plain": [
       "   rank                          name  year  rating  metascore   votes  \\\n",
       "0     1         2001: A Space Odyssey  1968     8.3       82.0  533017   \n",
       "1     2  Once Upon a Time in the West  1968     8.5       80.0  266884   \n",
       "3     4            Planet of the Apes  1968     8.0       79.0  154752   \n",
       "4     5      Night of the Living Dead  1968     7.9       89.0  103830   \n",
       "5     6                       Bullitt  1968     7.5       83.0   54658   \n",
       "\n",
       "      revenue                   genre  runtime              directors  \\\n",
       "0  56954992.0       Adventure, Sci-Fi    149.0        Stanley Kubrick   \n",
       "1   5321508.0                 Western    165.0           Sergio Leone   \n",
       "3  33395426.0       Adventure, Sci-Fi    112.0  Franklin J. Schaffner   \n",
       "4     89029.0                  Horror     96.0       George A. Romero   \n",
       "5  42300873.0  Action, Crime, Mystery    114.0            Peter Yates   \n",
       "\n",
       "                                              actors  \\\n",
       "0  Keir Dullea, Gary Lockwood, William Sylvester,...   \n",
       "1  Henry Fonda, Charles Bronson, Claudia Cardinal...   \n",
       "3  Charlton Heston, Roddy McDowall, Kim Hunter, M...   \n",
       "4  Duane Jones, Judith O'Dea, Karl Hardman, Maril...   \n",
       "5  Steve McQueen, Jacqueline Bisset, Robert Vaugh...   \n",
       "\n",
       "                                         description  \n",
       "0  After discovering a mysterious artifact buried...  \n",
       "1  A mysterious stranger with a harmonica joins f...  \n",
       "3  An astronaut crew crash-lands on a planet in t...  \n",
       "4  There is panic throughout the nation as the de...  \n",
       "5  An all guts, no glory San Francisco cop become...  "
      ]
     },
     "execution_count": 134,
     "metadata": {},
     "output_type": "execute_result"
    }
   ],
   "source": [
    "imdb_df.head()"
   ]
  },
  {
   "cell_type": "markdown",
   "metadata": {},
   "source": [
    "### Data Exploring"
   ]
  },
  {
   "cell_type": "code",
   "execution_count": 121,
   "metadata": {},
   "outputs": [
    {
     "data": {
      "text/html": [
       "<div>\n",
       "<style scoped>\n",
       "    .dataframe tbody tr th:only-of-type {\n",
       "        vertical-align: middle;\n",
       "    }\n",
       "\n",
       "    .dataframe tbody tr th {\n",
       "        vertical-align: top;\n",
       "    }\n",
       "\n",
       "    .dataframe thead th {\n",
       "        text-align: right;\n",
       "    }\n",
       "</style>\n",
       "<table border=\"1\" class=\"dataframe\">\n",
       "  <thead>\n",
       "    <tr style=\"text-align: right;\">\n",
       "      <th></th>\n",
       "      <th>rank</th>\n",
       "      <th>year</th>\n",
       "      <th>rating</th>\n",
       "      <th>metascore</th>\n",
       "      <th>votes</th>\n",
       "      <th>revenue</th>\n",
       "      <th>runtime</th>\n",
       "    </tr>\n",
       "  </thead>\n",
       "  <tbody>\n",
       "    <tr>\n",
       "      <th>rank</th>\n",
       "      <td>1.000000</td>\n",
       "      <td>0.146957</td>\n",
       "      <td>-0.344116</td>\n",
       "      <td>-0.227354</td>\n",
       "      <td>-0.525278</td>\n",
       "      <td>-0.473276</td>\n",
       "      <td>-0.215217</td>\n",
       "    </tr>\n",
       "    <tr>\n",
       "      <th>year</th>\n",
       "      <td>0.146957</td>\n",
       "      <td>1.000000</td>\n",
       "      <td>0.032386</td>\n",
       "      <td>-0.046370</td>\n",
       "      <td>0.230580</td>\n",
       "      <td>0.204086</td>\n",
       "      <td>0.063692</td>\n",
       "    </tr>\n",
       "    <tr>\n",
       "      <th>rating</th>\n",
       "      <td>-0.344116</td>\n",
       "      <td>0.032386</td>\n",
       "      <td>1.000000</td>\n",
       "      <td>0.741985</td>\n",
       "      <td>0.381307</td>\n",
       "      <td>0.136187</td>\n",
       "      <td>0.385224</td>\n",
       "    </tr>\n",
       "    <tr>\n",
       "      <th>metascore</th>\n",
       "      <td>-0.227354</td>\n",
       "      <td>-0.046370</td>\n",
       "      <td>0.741985</td>\n",
       "      <td>1.000000</td>\n",
       "      <td>0.266679</td>\n",
       "      <td>0.092804</td>\n",
       "      <td>0.275161</td>\n",
       "    </tr>\n",
       "    <tr>\n",
       "      <th>votes</th>\n",
       "      <td>-0.525278</td>\n",
       "      <td>0.230580</td>\n",
       "      <td>0.381307</td>\n",
       "      <td>0.266679</td>\n",
       "      <td>1.000000</td>\n",
       "      <td>0.625052</td>\n",
       "      <td>0.278616</td>\n",
       "    </tr>\n",
       "    <tr>\n",
       "      <th>revenue</th>\n",
       "      <td>-0.473276</td>\n",
       "      <td>0.204086</td>\n",
       "      <td>0.136187</td>\n",
       "      <td>0.092804</td>\n",
       "      <td>0.625052</td>\n",
       "      <td>1.000000</td>\n",
       "      <td>0.186777</td>\n",
       "    </tr>\n",
       "    <tr>\n",
       "      <th>runtime</th>\n",
       "      <td>-0.215217</td>\n",
       "      <td>0.063692</td>\n",
       "      <td>0.385224</td>\n",
       "      <td>0.275161</td>\n",
       "      <td>0.278616</td>\n",
       "      <td>0.186777</td>\n",
       "      <td>1.000000</td>\n",
       "    </tr>\n",
       "  </tbody>\n",
       "</table>\n",
       "</div>"
      ],
      "text/plain": [
       "               rank      year    rating  metascore     votes   revenue  \\\n",
       "rank       1.000000  0.146957 -0.344116  -0.227354 -0.525278 -0.473276   \n",
       "year       0.146957  1.000000  0.032386  -0.046370  0.230580  0.204086   \n",
       "rating    -0.344116  0.032386  1.000000   0.741985  0.381307  0.136187   \n",
       "metascore -0.227354 -0.046370  0.741985   1.000000  0.266679  0.092804   \n",
       "votes     -0.525278  0.230580  0.381307   0.266679  1.000000  0.625052   \n",
       "revenue   -0.473276  0.204086  0.136187   0.092804  0.625052  1.000000   \n",
       "runtime   -0.215217  0.063692  0.385224   0.275161  0.278616  0.186777   \n",
       "\n",
       "            runtime  \n",
       "rank      -0.215217  \n",
       "year       0.063692  \n",
       "rating     0.385224  \n",
       "metascore  0.275161  \n",
       "votes      0.278616  \n",
       "revenue    0.186777  \n",
       "runtime    1.000000  "
      ]
     },
     "execution_count": 121,
     "metadata": {},
     "output_type": "execute_result"
    }
   ],
   "source": [
    "imdb_df.corr()"
   ]
  },
  {
   "cell_type": "code",
   "execution_count": 81,
   "metadata": {},
   "outputs": [
    {
     "data": {
      "image/png": "[encoded data removed]",
      "text/plain": [
       "<Figure size 864x864 with 2 Axes>"
      ]
     },
     "metadata": {
      "needs_background": "light"
     },
     "output_type": "display_data"
    }
   ],
   "source": [
    "f,ax = plt.subplots(figsize=(12, 12))\n",
    "sns.heatmap(imdb_df.corr(), annot=True, linewidths=.5, fmt= '.2f',ax=ax)\n",
    "plt.show()"
   ]
  },
  {
   "cell_type": "code",
   "execution_count": 18,
   "metadata": {},
   "outputs": [
    {
     "data": {
      "text/plain": [
       "0"
      ]
     },
     "execution_count": 18,
     "metadata": {},
     "output_type": "execute_result"
    }
   ],
   "source": [
    "imdb_df.duplicated().sum()"
   ]
  },
  {
   "cell_type": "code",
   "execution_count": 20,
   "metadata": {},
   "outputs": [
    {
     "data": {
      "text/plain": [
       "Unnamed: 0        0\n",
       "rank              0\n",
       "name              0\n",
       "year              1\n",
       "rating            0\n",
       "metascore      4553\n",
       "votes             0\n",
       "revenue        3361\n",
       "genre             0\n",
       "runtime           2\n",
       "directors         0\n",
       "actors            0\n",
       "description       0\n",
       "dtype: int64"
      ]
     },
     "execution_count": 20,
     "metadata": {},
     "output_type": "execute_result"
    }
   ],
   "source": [
    "imdb_df.isnull().sum()"
   ]
  }
 ],
 "metadata": {
  "kernelspec": {
   "display_name": "Python 3",
   "language": "python",
   "name": "python3"
  },
  "language_info": {
   "codemirror_mode": {
    "name": "ipython",
    "version": 3
   },
   "file_extension": ".py",
   "mimetype": "text/x-python",
   "name": "python",
   "nbconvert_exporter": "python",
   "pygments_lexer": "ipython3",
   "version": "3.7.2"
  }
 },
 "nbformat": 4,
 "nbformat_minor": 2
}
